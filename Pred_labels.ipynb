{
 "cells": [
  {
   "cell_type": "markdown",
   "id": "0a802eae",
   "metadata": {},
   "source": [
    "Data for this project consists of two tables in a tab-separated columns format. Each row in those files corresponds to an abstract of a scientific article from ACM Digital Library, which was assigned to one or more topics from the  ACM Computing Classification System (the old one from 1998).\n",
    "\n",
    "There are two data sets for this task, the training and the testing sample, respectively. They are text (TSV - tab separated values) files compressed using 7zip.\n",
    "\n",
    "The training data (DM2023_training_docs_and_labels.tsv) has three columns: the first one is an identifier of a document, the second one stores the text of the abstract, and the third one contains a list of comma-separated topic labels.\n",
    "\n",
    "The test data (DM2023_test_docs.tsv) has a similar format, but the labels in the third column are missing.\n",
    "\n",
    "**The task and the format of submissions:** the task for you is to predict the labels of documents from the test data and submit them to the moodle using the link below. A correctly formatted submission should be a text file with exactly 100000 lines plus the report. Each line should correspond to a document from the test data set (the order matters!) and contain a list of one or more predicted labels, separated by commas. The report can be in the form of R/Python notebook (with code and computation outcomes). Please remember about explanations and visualizations – make this report as interesting for a reader as you can.\n",
    "\n",
    "You may make several submissions (up to 20), so please remember to clearly mark the final version of your answer in case there is more than one.\n",
    "\n",
    "Practical note: The submission size in moodle is limited to 512MB. In case your files are larger please use compression (7z,gz, ...) other than Zip. Moodle does not like .zip files. \n",
    "\n",
    "Evaluation: the quality of submissions will be evaluated using a script to compute the average F1-score measure, i.e., for each test document, the F1-score between the predicted and true labels will be computed, and the values obtained for all test cases will be averaged.\n",
    "\n",
    "The deadline for sending the reports is Sunday, June 15.\n",
    "\n",
    "Good luck!"
   ]
  },
  {
   "cell_type": "markdown",
   "id": "15bf63f5",
   "metadata": {},
   "source": [
    "# Introduction\n",
    "\n",
    "Categorizing documents in **ACM Digital Library** example: \n",
    "\n",
    "(Main Class).(Subclass).(Subsubcategory)\n",
    "\n",
    "**H.3.5**\n",
    "\n",
    "* H. Information Systems\n",
    "    *  H.3 Information Storage and Retrieval\n",
    "        * H.3.5 Online Information Services\n",
    "\n",
    "**D.3.2**\n",
    "\n",
    "* D. Software\n",
    "    * D.3 Programming Languages\n",
    "        * D.3.2 Language Classifications\n",
    "  \n",
    "\n",
    "# Loading data"
   ]
  },
  {
   "cell_type": "code",
   "execution_count": 37,
   "id": "a1dd6ad1",
   "metadata": {
    "ExecuteTime": {
     "end_time": "2025-06-01T14:16:59.198249Z",
     "start_time": "2025-06-01T14:16:56.074333Z"
    }
   },
   "outputs": [
    {
     "name": "stderr",
     "output_type": "stream",
     "text": [
      "[nltk_data] Downloading package stopwords to\n",
      "[nltk_data]     /home/konstanty/nltk_data...\n",
      "[nltk_data]   Package stopwords is already up-to-date!\n"
     ]
    },
    {
     "name": "stdout",
     "output_type": "stream",
     "text": [
      "Number of unique topics: 358\n",
      "First 10 example topics:  ['A.0', 'A.1', 'A.2', 'A.m', 'B.0', 'B.1', 'B.1.0', 'B.1.1', 'B.1.2', 'B.1.3']\n"
     ]
    }
   ],
   "source": [
    "# import sklearn as sk\n",
    "import numpy as np\n",
    "import pandas as pd\n",
    "import nltk\n",
    "from nltk.corpus import stopwords\n",
    "import os.path\n",
    "from sklearn.model_selection import train_test_split\n",
    "\n",
    "notebook_dir = os.path.dirname(os.path.abspath(\"__file__\"))\n",
    "test_path = os.path.join(notebook_dir, \"data\", \"DM2023_test_docs.tsv\")\n",
    "train_path = os.path.join(notebook_dir, \"data\", \"DM2023_training_docs_and_labels.tsv\")\n",
    "\n",
    "nltk.download(\"stopwords\")\n",
    "stop_words = stopwords.words(\"english\")\n",
    "\n",
    "\n",
    "\n",
    "test = pd.read_csv(test_path, \n",
    "                    sep=\"\\t\", \n",
    "                    encoding=\"latin1\", \n",
    "                    header=None,\n",
    "                    names=[\"Textfile\", \"Text\", \"Topics\"])\n",
    "# test = test.drop_duplicates()\n",
    "                    \n",
    "                    \n",
    "train_full = pd.read_csv(train_path, \n",
    "                    sep=\"\\t\", \n",
    "                    encoding=\"latin1\", \n",
    "                    header=None,\n",
    "                    names=[\"Textfile\", \"Text\", \"Topics\"])\n",
    "\n",
    "\n",
    "def flatten_if_single(x):\n",
    "    \"\"\"Jeśli x jest listą długości 1 – zwróć jej pierwszy element.\"\"\"\n",
    "    if isinstance(x, list) and len(x) == 1:\n",
    "        return x[0]\n",
    "    return x\n",
    "\n",
    "# Separating topics\n",
    "train_full[\"Topics\"] = (\n",
    "    train_full[\"Topics\"]\n",
    "    .apply(flatten_if_single)        \n",
    "    .str.split(r\"\\s*,\\s*\")         \n",
    ")\n",
    "\n",
    "# train[\"Topics\"] = train[\"Topics\"].str.split(\",\")\n",
    "\n",
    "unique_labels = set(label for sublist in train_full[\"Topics\"] for label in sublist)\n",
    "\n",
    "print(f\"Number of unique topics: {len(unique_labels)}\")\n",
    "print(\"First 10 example topics: \",sorted(list(unique_labels))[:10])"
   ]
  },
  {
   "cell_type": "markdown",
   "id": "be7af26a",
   "metadata": {},
   "source": [
    "# Train LDA, MLB (Or load) and topic distribution \n",
    "(Shape of mlb binary matrix should match the number of unique topics)"
   ]
  },
  {
   "cell_type": "code",
   "execution_count": null,
   "id": "6a3062a9",
   "metadata": {},
   "outputs": [
    {
     "name": "stdout",
     "output_type": "stream",
     "text": [
      "Train shape (80000, 3)  and validation shape (20000, 3)\n",
      "We need to train LDA, MLB and Vectorizer...\n"
     ]
    }
   ],
   "source": [
    "# Sparse matrix with col=words, row=word count in all documents\n",
    "import pickle\n",
    "import os.path\n",
    "from sklearn.preprocessing import MultiLabelBinarizer\n",
    "from sklearn.feature_extraction.text import CountVectorizer\n",
    "from sklearn.decomposition import LatentDirichletAllocation\n",
    "os.makedirs(\"models\", exist_ok=True)\n",
    "\n",
    "\n",
    "\n",
    "val   = train_full.iloc[80_000:].reset_index(drop=True)\n",
    "train = train_full.iloc[:80_000].reset_index(drop=True)\n",
    "\n",
    "print(\"Train shape\", train.shape,\" and validation shape\", val.shape)\n",
    "\n",
    "if os.path.exists(\"models/lda_model.pkl\") and os.path.exists(\"models/vectorizer.pkl\") and os.path.exists(\"models/mlb_model.pkl\"):\n",
    "\n",
    "    print(\"Found LDA and vectorizer models!\")\n",
    "    \n",
    "    with open(\"models/lda_model.pkl\", \"rb\") as f:\n",
    "        lda = pickle.load(f)\n",
    "\n",
    "    with open(\"models/vectorizer.pkl\", \"rb\") as f:\n",
    "        vectorizer = pickle.load(f)\n",
    "\n",
    "    with open(\"models/mlb_model.pkl\", \"rb\") as f:\n",
    "        mlb = pickle.load(f)\n",
    "\n",
    "    X_train = vectorizer.transform(train[\"Text\"])\n",
    "    X_train = lda.transform(X_train)\n",
    "    y_train = mlb.transform(train[\"Topics\"])\n",
    "\n",
    "    X_val = vectorizer.transform(val[\"Text\"])\n",
    "    X_val = lda.transform(X_val)\n",
    "    y_val = mlb.transform(val[\"Topics\"])\n",
    "\n",
    "    print(f\"Number of unique topics (ex. 'A.5' or 'H.3.5'): {len(mlb.classes_)}\")\n",
    "    print(f\"Shape y_train: {y_train.shape}\")\n",
    "\n",
    "else:\n",
    "    print(\"We need to train LDA, MLB and Vectorizer...\")\n",
    "    vectorizer = CountVectorizer(stop_words=stop_words, max_df=0.95, min_df=2)\n",
    "    lda = LatentDirichletAllocation(n_components=200, random_state=42)\n",
    "    mlb = MultiLabelBinarizer()\n",
    "\n",
    "    X_train = vectorizer.fit_transform(train[\"Text\"])\n",
    "    X_train = lda.fit_transform(X_train)\n",
    "    y_train = mlb.fit_transform(train[\"Topics\"])\n",
    "\n",
    "    X_val = vectorizer.transform(val[\"Text\"])\n",
    "    X_val = lda.transform(X_val)\n",
    "    y_val = mlb.transform(val[\"Topics\"])\n",
    "\n",
    "    print(f\"Number of unique topics (ex. 'A.5' or 'H.3.5'): {len(mlb.classes_)}\")\n",
    "    print(f\"Shape y_train: {y_train.shape}\")\n",
    "    \n",
    "    # Save models\n",
    "    with open(\"models/lda_model.pkl\", \"wb\") as f:\n",
    "        pickle.dump(lda, f)\n",
    "\n",
    "    with open(\"models/vectorizer.pkl\", \"wb\") as f:\n",
    "        pickle.dump(vectorizer, f)\n",
    "\n",
    "    with open(\"models/mlb_model.pkl\", \"wb\") as f:\n",
    "        pickle.dump(mlb, f)\n",
    "\n",
    "\n",
    "X_test = vectorizer.transform(test[\"Text\"])\n",
    "X_test = lda.transform(X_test)\n",
    "print(mlb.classes_) "
   ]
  },
  {
   "cell_type": "markdown",
   "id": "eac4ba14",
   "metadata": {},
   "source": [
    "# Check 5 topics distributions"
   ]
  },
  {
   "cell_type": "code",
   "execution_count": 44,
   "id": "49072bc2",
   "metadata": {},
   "outputs": [
    {
     "data": {
      "application/vnd.microsoft.datawrangler.viewer.v0+json": {
       "columns": [
        {
         "name": "index",
         "rawType": "object",
         "type": "string"
        },
        {
         "name": "580106.txt",
         "rawType": "float64",
         "type": "float"
        },
        {
         "name": "1755942.txt",
         "rawType": "float64",
         "type": "float"
        },
        {
         "name": "1416298.txt",
         "rawType": "float64",
         "type": "float"
        },
        {
         "name": "1516665.txt",
         "rawType": "float64",
         "type": "float"
        },
        {
         "name": "1259693.txt",
         "rawType": "float64",
         "type": "float"
        }
       ],
       "ref": "759a50c5-d7e5-4171-baa9-c04762d15ac0",
       "rows": [
        [
         "Topic 0",
         "0.0",
         "0.0",
         "0.0",
         "0.0",
         "0.0"
        ],
        [
         "Topic 1",
         "0.0",
         "0.0",
         "0.0",
         "0.0",
         "0.0"
        ],
        [
         "Topic 2",
         "0.0",
         "0.0",
         "0.0",
         "0.0",
         "0.0"
        ],
        [
         "Topic 3",
         "0.0",
         "0.0",
         "0.0",
         "0.0",
         "0.0"
        ],
        [
         "Topic 4",
         "0.0",
         "0.0",
         "0.0",
         "0.0",
         "0.0"
        ],
        [
         "Topic 5",
         "0.0",
         "0.0",
         "0.0",
         "0.0",
         "0.0"
        ],
        [
         "Topic 6",
         "0.0",
         "0.0",
         "0.0",
         "0.0",
         "0.0"
        ],
        [
         "Topic 7",
         "0.128",
         "0.0",
         "0.043",
         "0.0",
         "0.0"
        ],
        [
         "Topic 8",
         "0.0",
         "0.0",
         "0.0",
         "0.048",
         "0.0"
        ],
        [
         "Topic 9",
         "0.013",
         "0.0",
         "0.0",
         "0.0",
         "0.07"
        ],
        [
         "Topic 10",
         "0.0",
         "0.0",
         "0.0",
         "0.0",
         "0.0"
        ],
        [
         "Topic 11",
         "0.027",
         "0.0",
         "0.0",
         "0.0",
         "0.0"
        ],
        [
         "Topic 12",
         "0.0",
         "0.0",
         "0.0",
         "0.0",
         "0.015"
        ],
        [
         "Topic 13",
         "0.037",
         "0.0",
         "0.0",
         "0.0",
         "0.0"
        ],
        [
         "Topic 14",
         "0.0",
         "0.0",
         "0.0",
         "0.0",
         "0.0"
        ],
        [
         "Topic 15",
         "0.018",
         "0.0",
         "0.0",
         "0.056",
         "0.015"
        ],
        [
         "Topic 16",
         "0.0",
         "0.0",
         "0.0",
         "0.0",
         "0.027"
        ],
        [
         "Topic 17",
         "0.0",
         "0.0",
         "0.053",
         "0.0",
         "0.0"
        ],
        [
         "Topic 18",
         "0.0",
         "0.0",
         "0.0",
         "0.0",
         "0.0"
        ],
        [
         "Topic 19",
         "0.0",
         "0.0",
         "0.0",
         "0.0",
         "0.0"
        ],
        [
         "Topic 20",
         "0.0",
         "0.0",
         "0.0",
         "0.0",
         "0.068"
        ],
        [
         "Topic 21",
         "0.0",
         "0.0",
         "0.0",
         "0.0",
         "0.0"
        ],
        [
         "Topic 22",
         "0.0",
         "0.0",
         "0.0",
         "0.0",
         "0.0"
        ],
        [
         "Topic 23",
         "0.0",
         "0.0",
         "0.0",
         "0.0",
         "0.0"
        ],
        [
         "Topic 24",
         "0.0",
         "0.0",
         "0.308",
         "0.109",
         "0.0"
        ],
        [
         "Topic 25",
         "0.0",
         "0.0",
         "0.0",
         "0.0",
         "0.0"
        ],
        [
         "Topic 26",
         "0.0",
         "0.0",
         "0.0",
         "0.0",
         "0.0"
        ],
        [
         "Topic 27",
         "0.0",
         "0.014",
         "0.0",
         "0.0",
         "0.0"
        ],
        [
         "Topic 28",
         "0.0",
         "0.0",
         "0.0",
         "0.0",
         "0.0"
        ],
        [
         "Topic 29",
         "0.0",
         "0.0",
         "0.0",
         "0.0",
         "0.0"
        ],
        [
         "Topic 30",
         "0.0",
         "0.0",
         "0.0",
         "0.093",
         "0.0"
        ],
        [
         "Topic 31",
         "0.033",
         "0.0",
         "0.0",
         "0.0",
         "0.0"
        ],
        [
         "Topic 32",
         "0.0",
         "0.0",
         "0.04",
         "0.0",
         "0.0"
        ],
        [
         "Topic 33",
         "0.0",
         "0.0",
         "0.0",
         "0.0",
         "0.0"
        ],
        [
         "Topic 34",
         "0.0",
         "0.0",
         "0.0",
         "0.0",
         "0.0"
        ],
        [
         "Topic 35",
         "0.0",
         "0.0",
         "0.0",
         "0.0",
         "0.0"
        ],
        [
         "Topic 36",
         "0.0",
         "0.0",
         "0.0",
         "0.0",
         "0.0"
        ],
        [
         "Topic 37",
         "0.0",
         "0.0",
         "0.0",
         "0.0",
         "0.024"
        ],
        [
         "Topic 38",
         "0.0",
         "0.0",
         "0.0",
         "0.0",
         "0.0"
        ],
        [
         "Topic 39",
         "0.0",
         "0.0",
         "0.0",
         "0.0",
         "0.0"
        ],
        [
         "Topic 40",
         "0.0",
         "0.026",
         "0.0",
         "0.0",
         "0.0"
        ],
        [
         "Topic 41",
         "0.0",
         "0.0",
         "0.0",
         "0.0",
         "0.0"
        ],
        [
         "Topic 42",
         "0.0",
         "0.0",
         "0.0",
         "0.0",
         "0.0"
        ],
        [
         "Topic 43",
         "0.0",
         "0.0",
         "0.0",
         "0.0",
         "0.0"
        ],
        [
         "Topic 44",
         "0.0",
         "0.0",
         "0.0",
         "0.0",
         "0.0"
        ],
        [
         "Topic 45",
         "0.0",
         "0.0",
         "0.0",
         "0.0",
         "0.0"
        ],
        [
         "Topic 46",
         "0.34",
         "0.0",
         "0.0",
         "0.0",
         "0.0"
        ],
        [
         "Topic 47",
         "0.0",
         "0.0",
         "0.0",
         "0.0",
         "0.0"
        ],
        [
         "Topic 48",
         "0.0",
         "0.0",
         "0.0",
         "0.0",
         "0.0"
        ],
        [
         "Topic 49",
         "0.0",
         "0.0",
         "0.0",
         "0.0",
         "0.0"
        ]
       ],
       "shape": {
        "columns": 5,
        "rows": 200
       }
      },
      "text/html": [
       "<div>\n",
       "<style scoped>\n",
       "    .dataframe tbody tr th:only-of-type {\n",
       "        vertical-align: middle;\n",
       "    }\n",
       "\n",
       "    .dataframe tbody tr th {\n",
       "        vertical-align: top;\n",
       "    }\n",
       "\n",
       "    .dataframe thead th {\n",
       "        text-align: right;\n",
       "    }\n",
       "</style>\n",
       "<table border=\"1\" class=\"dataframe\">\n",
       "  <thead>\n",
       "    <tr style=\"text-align: right;\">\n",
       "      <th></th>\n",
       "      <th>580106.txt</th>\n",
       "      <th>1755942.txt</th>\n",
       "      <th>1416298.txt</th>\n",
       "      <th>1516665.txt</th>\n",
       "      <th>1259693.txt</th>\n",
       "    </tr>\n",
       "  </thead>\n",
       "  <tbody>\n",
       "    <tr>\n",
       "      <th>Topic 0</th>\n",
       "      <td>0.0</td>\n",
       "      <td>0.0</td>\n",
       "      <td>0.0</td>\n",
       "      <td>0.0</td>\n",
       "      <td>0.0</td>\n",
       "    </tr>\n",
       "    <tr>\n",
       "      <th>Topic 1</th>\n",
       "      <td>0.0</td>\n",
       "      <td>0.0</td>\n",
       "      <td>0.0</td>\n",
       "      <td>0.0</td>\n",
       "      <td>0.0</td>\n",
       "    </tr>\n",
       "    <tr>\n",
       "      <th>Topic 2</th>\n",
       "      <td>0.0</td>\n",
       "      <td>0.0</td>\n",
       "      <td>0.0</td>\n",
       "      <td>0.0</td>\n",
       "      <td>0.0</td>\n",
       "    </tr>\n",
       "    <tr>\n",
       "      <th>Topic 3</th>\n",
       "      <td>0.0</td>\n",
       "      <td>0.0</td>\n",
       "      <td>0.0</td>\n",
       "      <td>0.0</td>\n",
       "      <td>0.0</td>\n",
       "    </tr>\n",
       "    <tr>\n",
       "      <th>Topic 4</th>\n",
       "      <td>0.0</td>\n",
       "      <td>0.0</td>\n",
       "      <td>0.0</td>\n",
       "      <td>0.0</td>\n",
       "      <td>0.0</td>\n",
       "    </tr>\n",
       "    <tr>\n",
       "      <th>...</th>\n",
       "      <td>...</td>\n",
       "      <td>...</td>\n",
       "      <td>...</td>\n",
       "      <td>...</td>\n",
       "      <td>...</td>\n",
       "    </tr>\n",
       "    <tr>\n",
       "      <th>Topic 195</th>\n",
       "      <td>0.0</td>\n",
       "      <td>0.0</td>\n",
       "      <td>0.0</td>\n",
       "      <td>0.0</td>\n",
       "      <td>0.0</td>\n",
       "    </tr>\n",
       "    <tr>\n",
       "      <th>Topic 196</th>\n",
       "      <td>0.0</td>\n",
       "      <td>0.0</td>\n",
       "      <td>0.0</td>\n",
       "      <td>0.0</td>\n",
       "      <td>0.0</td>\n",
       "    </tr>\n",
       "    <tr>\n",
       "      <th>Topic 197</th>\n",
       "      <td>0.0</td>\n",
       "      <td>0.0</td>\n",
       "      <td>0.0</td>\n",
       "      <td>0.0</td>\n",
       "      <td>0.0</td>\n",
       "    </tr>\n",
       "    <tr>\n",
       "      <th>Topic 198</th>\n",
       "      <td>0.0</td>\n",
       "      <td>0.0</td>\n",
       "      <td>0.0</td>\n",
       "      <td>0.0</td>\n",
       "      <td>0.0</td>\n",
       "    </tr>\n",
       "    <tr>\n",
       "      <th>Topic 199</th>\n",
       "      <td>0.0</td>\n",
       "      <td>0.0</td>\n",
       "      <td>0.0</td>\n",
       "      <td>0.0</td>\n",
       "      <td>0.0</td>\n",
       "    </tr>\n",
       "  </tbody>\n",
       "</table>\n",
       "<p>200 rows × 5 columns</p>\n",
       "</div>"
      ],
      "text/plain": [
       "           580106.txt  1755942.txt  1416298.txt  1516665.txt  1259693.txt\n",
       "Topic 0           0.0          0.0          0.0          0.0          0.0\n",
       "Topic 1           0.0          0.0          0.0          0.0          0.0\n",
       "Topic 2           0.0          0.0          0.0          0.0          0.0\n",
       "Topic 3           0.0          0.0          0.0          0.0          0.0\n",
       "Topic 4           0.0          0.0          0.0          0.0          0.0\n",
       "...               ...          ...          ...          ...          ...\n",
       "Topic 195         0.0          0.0          0.0          0.0          0.0\n",
       "Topic 196         0.0          0.0          0.0          0.0          0.0\n",
       "Topic 197         0.0          0.0          0.0          0.0          0.0\n",
       "Topic 198         0.0          0.0          0.0          0.0          0.0\n",
       "Topic 199         0.0          0.0          0.0          0.0          0.0\n",
       "\n",
       "[200 rows x 5 columns]"
      ]
     },
     "execution_count": 44,
     "metadata": {},
     "output_type": "execute_result"
    }
   ],
   "source": [
    "file_ids = train[\"Textfile\"].iloc[:5].values\n",
    "topic_distributions = X_train[:5]\n",
    "\n",
    "topics_df = pd.DataFrame(np.round(topic_distributions, 3),\n",
    "                                   columns=[f\"Topic {i}\" for i in range(lda.n_components)],\n",
    "                                   index=file_ids)\n",
    "topics_df.T"
   ]
  },
  {
   "cell_type": "markdown",
   "id": "6992e7a8",
   "metadata": {},
   "source": [
    "# Let's see words assigned to different topics with LDA"
   ]
  },
  {
   "cell_type": "code",
   "execution_count": 45,
   "id": "ea0754a6",
   "metadata": {},
   "outputs": [
    {
     "name": "stdout",
     "output_type": "stream",
     "text": [
      "Topic 0: sorting ensemble port hypercube interconnection parameterization boosting suffix ensembles transparency\n",
      "Topic 1: distribution estimation statistical estimates estimate statistics sample distributions likelihood variance\n",
      "Topic 2: mapping environment reality augmented environments urban real ar vr presence\n",
      "Topic 3: mechanism workflow mechanisms auction workflows agreement auctions party incentive elicitation\n",
      "Topic 4: air fabric injection pd pollution patch dilemma complexes simplicial catalog\n",
      "Topic 5: series hybrid term model long short forecasting forecast time weather\n",
      "Topic 6: management information identification tags rfid tag ir legal law compliance\n",
      "Topic 7: project risk projects software practices development agile management developers best\n",
      "Topic 8: process decision processes making model criteria hierarchical decisions approach selection\n",
      "Topic 9: grid multimedia media mobile applications devices paper based system computing\n",
      "Topic 10: codes code cyclic copy walking correcting gait dr error locomotion\n",
      "Topic 11: tool tools ada use debugging using benchmarking evaluation help used\n",
      "Topic 12: transaction concurrent transactions concurrency conflict atomic conflicts lock transactional synchronization\n",
      "Topic 13: wireless networks access layer network 802 mobile radio mac ieee\n",
      "Topic 14: cell production cells selective activity model neurons response effects cortex\n",
      "Topic 15: knowledge domain base attributes based conceptual domains attribute set representation\n",
      "Topic 16: graphics animation interactive 3d computer manipulation rendering animations animated editing\n",
      "Topic 17: availability available de http motivation www data genome edu supplementary\n",
      "Topic 18: free regular string grammar universal intersection grammars strings parsing normal\n",
      "Topic 19: ai narrative driver drivers ph shell persistence script crossing mit\n",
      "Topic 20: consistency consistent unification arc elementary notion operational interpretations properties equational\n",
      "Topic 21: table tables summarization summary lookup anonymity summaries closure transitive crawling\n",
      "Topic 22: formation co diffusion reaction barrier concentration growth deposition spectra ni\n",
      "Topic 23: agent agents multi based system intelligent preferences paper approach user\n",
      "Topic 24: architecture applications integration management system systems application support paper architectural\n",
      "Topic 25: key action encryption protocols secure actions cryptographic public one security\n",
      "Topic 26: virtual world environments environment real worlds physical virtualization machine indoor\n",
      "Topic 27: verification specification formal model state checking properties specifications abstract correctness\n",
      "Topic 28: organization organizational organizations structured taxonomy research systems unstructured technology change\n",
      "Topic 29: patterns pattern dependencies events bugs system bug violations race dynamic\n",
      "Topic 30: system storage file disk data performance files operating systems trace\n",
      "Topic 31: code java source compiler static dynamic runtime execution program compilation\n",
      "Topic 32: simulation system model controller control vehicle paper simulator using discrete\n",
      "Topic 33: voting flight nc system dp cp election unmanned using vote\n",
      "Topic 34: passive reactions inductive multilevel two actuators scm ce non based\n",
      "Topic 35: semi topic data supervised labels labeled label topics labeling active\n",
      "Topic 36: routing networks network ad hoc link topology performance nodes mobile\n",
      "Topic 37: know linux windows get os like would people one want\n",
      "Topic 38: ip protection property intellectual reference mpls layered resilience error fingerprinting\n",
      "Topic 39: protocol protocols edge mutual scheme authentication one new star consensus\n",
      "Topic 40: number set problem polynomial given show np prove every vertices\n",
      "Topic 41: length stack repair macro prefix copies spreading longest stacks virus\n",
      "Topic 42: image images resolution based method using fusion features results imaging\n",
      "Topic 43: order fractional delta skeleton higher 221e rm jump 03b3 conjecture\n",
      "Topic 44: temperature thermal micro layer high thin surface using materials silicon\n",
      "Topic 45: rules rule association missing incomplete data values based set sets\n",
      "Topic 46: service services web server based client paper applications servers application\n",
      "Topic 47: research social community work communities people researchers new future issues\n",
      "Topic 48: random variables variable sequences values number formula sampling correlation correlated\n",
      "Topic 49: simulated em annealing axis hyper ball sa algorithm medial landscape\n",
      "Topic 50: self map maps organizing reporting som relaxation spreadsheet nuclear cas\n",
      "Topic 51: migration viewpoint fidelity workspace vliw viewpoints asset steering modis peripheral\n",
      "Topic 52: compression algorithm template head vertical method using size division super\n",
      "Topic 53: visual visualization data graphical interactive visualizations visualizing techniques exploration visualize\n",
      "Topic 54: algorithm algorithms log time approximation distance space case two problem\n",
      "Topic 55: technology education computing computer university computers school teachers national educational\n",
      "Topic 56: complexity finite automata convex cellular timed class deterministic set time\n",
      "Topic 57: signal filter signals frequency phase filtering filters wavelet noise using\n",
      "Topic 58: segmentation region regions based image background method algorithm segment segments\n",
      "Topic 59: classification classifier classifiers svm support accuracy classify machine classifying based\n",
      "Topic 60: components system component framework application based software systems embedded applications\n",
      "Topic 61: point arithmetic transformations floating alpha simplification carry beta adder cam\n",
      "Topic 62: communication technology spectrum communications technologies use people computer study mediated\n",
      "Topic 63: path matrix paths matrices rank apl algorithm shortest sparse permutation\n",
      "Topic 64: session scratch age trigger matter mediation pad white rpc icons\n",
      "Topic 65: information web documents document users system user metadata browsing based\n",
      "Topic 66: face expressions facial recognition faces expression biometric opinion skin system\n",
      "Topic 67: digital public government expression gene biological information regulation evolution regulatory\n",
      "Topic 68: context location aware library information mobile based users libraries data\n",
      "Topic 69: planning expert navigation system plan intelligence mail spam phone obstacles\n",
      "Topic 70: voice sound strength fingerprint voip terrain arabic container pointing cr\n",
      "Topic 71: offline medium mis ads backup online identities behaviours identity sized\n",
      "Topic 72: language languages type types programming semantics natural definition system functional\n",
      "Topic 73: video videos surveillance encoding frames frame pruning shot mpeg shaping\n",
      "Topic 74: eye categories cancer genes binding gene biomedical score categorization using\n",
      "Topic 75: data spatial satellite water environmental study ground area using land\n",
      "Topic 76: function learning class algorithm dual classes gradient examples entropy new\n",
      "Topic 77: health care patients patient false monitoring copyright john medical wiley\n",
      "Topic 78: asynchronous clock branch synchronous line ring lines branches skew mixed\n",
      "Topic 79: protein sequence structure structural sequences contact dna proteins interactions molecular\n",
      "Topic 80: query queries xml data relational schema database processing views databases\n",
      "Topic 81: search query engine results web ranking searching engines queries retrieval\n",
      "Topic 82: market price equilibrium economic financial markets demand pricing investment competition\n",
      "Topic 83: numerical method equations linear order equation solution methods differential nonlinear\n",
      "Topic 84: hot mappings lists indirect spot vibration sea rs spots fatigue\n",
      "Topic 85: clustering data cluster method based clusters algorithm methods proposed approach\n",
      "Topic 86: software development engineering requirements product process case paper study research\n",
      "Topic 87: memory cache performance load shared caching access latency processor show\n",
      "Topic 88: sub music diagram musical slicing slice voronoi dependability slices latin\n",
      "Topic 89: feature features based word extraction using words selection training translation\n",
      "Topic 90: systems modelling system computer theory complex paper dynamical behaviour model\n",
      "Topic 91: power time supply synchronization chain consumption voltage savings saving dynamic\n",
      "Topic 92: fuzzy uncertainty proposed system based paper uncertain method approach robust\n",
      "Topic 93: policy policies access authorization round enforcement based si rbac role\n",
      "Topic 94: display light rendering depth view displays 3d ray using illumination\n",
      "Topic 95: mining data discovery patterns frequent algorithm algorithms approach paper discover\n",
      "Topic 96: method algorithm speech noise proposed based methods adaptive iterative new\n",
      "Topic 97: splitting step split membrane chart rc propagation stepping boltzmann cash\n",
      "Topic 98: stochastic generator generators method tensor fractal pseudo interior stationary exact\n",
      "Topic 99: network networks neural model based artificial results using paper qos\n",
      "Topic 100: motion tracking 3d camera using method based human body position\n",
      "Topic 101: problem problems solution solve solving solutions constraints optimization approach solved\n",
      "Topic 102: scheme channel rate coding transmission channels proposed performance interference error\n",
      "Topic 103: recognition temporal spatio model handwritten classes class accuracy performance two\n",
      "Topic 104: traffic packet network bandwidth end qos tcp ip congestion performance\n",
      "Topic 105: aspect concerns aspects separation refactoring automotive concern oriented modularity aop\n",
      "Topic 106: bridge ipv6 differentiation signaling ap handover tail intra bridges agricultural\n",
      "Topic 107: model probabilistic markov bayesian inference hidden models dependency probability based\n",
      "Topic 108: learning system based paper model learners learner educational environment development\n",
      "Topic 109: students computer course science student teaching learning courses study university\n",
      "Topic 110: matching shape similarity based shapes geometric geometry texture representation structure\n",
      "Topic 111: tv meeting shadow password television wikipedia drug passwords qualities wiki\n",
      "Topic 112: question module questions answer modules answers answering distortion 264 insurance\n",
      "Topic 113: logic reasoning theory operators logical calculus order boolean first semantics\n",
      "Topic 114: capacity diversity antenna directional array mimo bi antennas multiple publish\n",
      "Topic 115: medical update assembly cloud updates records clinical healthcare updating medicine\n",
      "Topic 116: errors soft annotation error annotations ambient go annotated notes stem\n",
      "Topic 117: semantic ontology concepts ontologies semantics i3 based concept semantically descriptions\n",
      "Topic 118: models model modeling complex used different based techniques mathematical analysis\n",
      "Topic 119: graph graphs children directed connected edges nodes edge connectivity drawing\n",
      "Topic 120: trust customer customers value consumer marketing product products relationships relationship\n",
      "Topic 121: hardware architecture processor performance fpga instruction high implementation processors reconfigurable\n",
      "Topic 122: detection recovery detect signature intrusion detecting signatures based detected anomaly\n",
      "Topic 123: objects event events activity object change changes activities nearest based\n",
      "Topic 124: content text audio items news entry item merging based system\n",
      "Topic 125: art state email immune artificial category painting artists centre ci\n",
      "Topic 126: force pc haptic forces gui emulation finger pcs clauses sap\n",
      "Topic 127: prediction model regression kernel methods error method accuracy data predict\n",
      "Topic 128: model object oriented modeling transformation driven approach meta based paper\n",
      "Topic 129: smart scan flip recording volume speculation laboratories flops clones clone\n",
      "Topic 130: quality performance measurement measures evaluation measure assessment maintenance system measuring\n",
      "Topic 131: interval dynamics stock intervals chaotic fold folding chaos volatility returns\n",
      "Topic 132: algorithm optimization algorithms genetic evolutionary objective proposed based results population\n",
      "Topic 133: transform determination method colour heavy infinite size displacement winner orbit\n",
      "Topic 134: time scheduling times job queue jobs priority queueing response arrival\n",
      "Topic 135: parallel performance applications computing large high cluster processors scale application\n",
      "Topic 136: particle swarm ant pso optimization algorithm colony particles based es\n",
      "Topic 137: adaptive constraint fine grained active cooperative model satisfaction csp based\n",
      "Topic 138: delay placement assignment timing delays layout algorithm based wire routing\n",
      "Topic 139: instrument acoustic sound auto sounds pathways auditory car guides pathway\n",
      "Topic 140: design system computer designers paper designing use user process used\n",
      "Topic 141: loop redundancy loops dependence iterations sided fan elimination lda ps\n",
      "Topic 142: predicates predicate lisp pagerank facets set facet drm rankings suggestion\n",
      "Topic 143: collaborative collaboration team work support teams awareness office participants members\n",
      "Topic 144: electronic commerce transportation model facility payment economy dss indicators system\n",
      "Topic 145: decoding receiver symbols check decoder detector symbol plasma detectors low\n",
      "Topic 146: user interaction interface human users interfaces interactive usability based paper\n",
      "Topic 147: program programming programs programmers use programmer execution language paper using\n",
      "Topic 148: polynomial algebraic polynomials symbolic root rational field multivariate degree roots\n",
      "Topic 149: sensor sensors localization aggregation sensing networks proximity key keys deployment\n",
      "Topic 150: game games play players player playing role gaming online played\n",
      "Topic 151: optimal cost problem bound lower bounds algorithm upper time size\n",
      "Topic 152: al et sets generalized set algorithm valued quasi vector weight\n",
      "Topic 153: schemes scheme replacement hash positioning gps hashing prefetching dht anonymous\n",
      "Topic 154: analysis web pages page name based names approach results analyses\n",
      "Topic 155: energy scaling variations consumption variation leakage power reduction variability bus\n",
      "Topic 156: control uml diagrams access controlled controls controlling system inf diagram\n",
      "Topic 157: handling exception exceptions spatiotemporal specialization dynamic zones magic observability spacecraft\n",
      "Topic 158: scientific scientists goals explanation representations nasa military research mission science\n",
      "Topic 159: conference papers workshop international center held 2005 2008 2007 2006\n",
      "Topic 160: group groups spaces space bases invariants algebra canonical causal invariant\n",
      "Topic 161: processing message messages passing exchange communication deadlock send pass one\n",
      "Topic 162: character safety style characters styles writer stroke system critical based\n",
      "Topic 163: strategies strategy trading emotion emotional affective emotions late plagiarism ips\n",
      "Topic 164: book web learn microsoft guide using use applications step new\n",
      "Topic 165: distributed peer p2p network system systems sharing based scalable peers\n",
      "Topic 166: surface mesh surfaces curve curves points method reconstruction meshes geometric\n",
      "Topic 167: study users user factors online perceived results survey site web\n",
      "Topic 168: 00bf right left sign cycle 2n omega hole signs le\n",
      "Topic 169: business enterprise management industry chapter book technology technical technologies new\n",
      "Topic 170: internet coordination overlay bgp probing topology route measurements overlays end\n",
      "Topic 171: time real analysis temporal model timing based paper fire run\n",
      "Topic 172: yield manufacturing defects defect semiconductor process response ic wafer compaction\n",
      "Topic 173: test testing tests generation coverage based cases diagnosis results method\n",
      "Topic 174: flow flows fluid model boundary method velocity pressure numerical simulations\n",
      "Topic 175: quantum convergence classical projection points correction theory point perturbation spherical\n",
      "Topic 176: level design synthesis chip designs high methodology soc interconnect performance\n",
      "Topic 177: block threshold color proposed embedding based blocks scheme watermarking method\n",
      "Topic 178: data spatial index stream large processing streams efficient structure structures\n",
      "Topic 179: security mobile secure devices computing authentication ubiquitous pervasive paper applications\n",
      "Topic 180: functions function probability boolean sp balanced repetitive neighbourhood lr construction\n",
      "Topic 181: fault reliability metrics failure failures tolerance tolerant faults system faulty\n",
      "Topic 182: retrieval feedback based sat relevance system tier performance paging sports\n",
      "Topic 183: stage switch input output sort stages switches two first system\n",
      "Topic 184: road blind box stories visually story impaired disaster boxes multilingual\n",
      "Topic 185: collection incremental garbage live pointer heap malware collector pointers bad\n",
      "Topic 186: software attacks attack malicious reverse security vulnerabilities system techniques analysis\n",
      "Topic 187: tree trees decomposition minimum spanning algorithm steiner node structure join\n",
      "Topic 188: optical multicast wavelength conversion switching burst wdm drop based probe\n",
      "Topic 189: recursive carlo monte symmetry circular recursion plate method damping expansion\n",
      "Topic 190: nodes sensor node network networks wireless energy broadcast data lifetime\n",
      "Topic 191: scheduling resource task allocation tasks resources time problem algorithm partitioning\n",
      "Topic 192: circuit circuits current voltage cmos low mode analog frequency gate\n",
      "Topic 193: database privacy databases data sql integrity preserving oracle information access\n",
      "Topic 194: robot robots robotic double robotics dns perception mismatch autonomous animal\n",
      "Topic 195: computation operations parallel algorithms implementation computations parallelism machine algorithm efficient\n",
      "Topic 196: cognitive tissue duration surgery surgical cisco bone assisted typing muscle\n",
      "Topic 197: element finite elements method analysis model inc wiley periodicals using\n",
      "Topic 198: brain 2009 stimuli 0394 resonance ct stimulus potentials mri fmri\n",
      "Topic 199: net nets petri chinese triangulation seed mathcal delaunay bank gamma\n"
     ]
    }
   ],
   "source": [
    "feature_names = vectorizer.get_feature_names_out()\n",
    "\n",
    "def show_top_words(model, feature_names, n_top_words=10):\n",
    "    for topic_idx, topic in enumerate(model.components_):\n",
    "        top_features = [feature_names[i] for i in topic.argsort()[:-n_top_words - 1:-1]]\n",
    "        print(f\"Topic {topic_idx}: {' '.join(top_features)}\")\n",
    "\n",
    "show_top_words(lda, feature_names)"
   ]
  },
  {
   "cell_type": "markdown",
   "id": "5e0578de",
   "metadata": {},
   "source": [
    "# Training classifier"
   ]
  },
  {
   "cell_type": "code",
   "execution_count": 46,
   "id": "83e708be",
   "metadata": {},
   "outputs": [
    {
     "name": "stdout",
     "output_type": "stream",
     "text": [
      "We need to train classifier first...\n"
     ]
    },
    {
     "ename": "ValueError",
     "evalue": "Found input variables with inconsistent numbers of samples: [80000, 100000]",
     "output_type": "error",
     "traceback": [
      "\u001b[31m---------------------------------------------------------------------------\u001b[39m",
      "\u001b[31m_RemoteTraceback\u001b[39m                          Traceback (most recent call last)",
      "\u001b[31m_RemoteTraceback\u001b[39m: \n\"\"\"\nTraceback (most recent call last):\n  File \"/home/konstanty/Projects/UW/UWvenv/lib/python3.12/site-packages/joblib/externals/loky/process_executor.py\", line 463, in _process_worker\n    r = call_item()\n        ^^^^^^^^^^^\n  File \"/home/konstanty/Projects/UW/UWvenv/lib/python3.12/site-packages/joblib/externals/loky/process_executor.py\", line 291, in __call__\n    return self.fn(*self.args, **self.kwargs)\n           ^^^^^^^^^^^^^^^^^^^^^^^^^^^^^^^^^^\n  File \"/home/konstanty/Projects/UW/UWvenv/lib/python3.12/site-packages/joblib/parallel.py\", line 598, in __call__\n    return [func(*args, **kwargs)\n            ^^^^^^^^^^^^^^^^^^^^^\n  File \"/home/konstanty/Projects/UW/UWvenv/lib/python3.12/site-packages/sklearn/utils/parallel.py\", line 139, in __call__\n    return self.function(*args, **kwargs)\n           ^^^^^^^^^^^^^^^^^^^^^^^^^^^^^^\n  File \"/home/konstanty/Projects/UW/UWvenv/lib/python3.12/site-packages/sklearn/multiclass.py\", line 96, in _fit_binary\n    estimator.fit(X, y, **fit_params)\n  File \"/home/konstanty/Projects/UW/UWvenv/lib/python3.12/site-packages/sklearn/base.py\", line 1389, in wrapper\n    return fit_method(estimator, *args, **kwargs)\n           ^^^^^^^^^^^^^^^^^^^^^^^^^^^^^^^^^^^^^^\n  File \"/home/konstanty/Projects/UW/UWvenv/lib/python3.12/site-packages/sklearn/linear_model/_logistic.py\", line 1222, in fit\n    X, y = validate_data(\n           ^^^^^^^^^^^^^^\n  File \"/home/konstanty/Projects/UW/UWvenv/lib/python3.12/site-packages/sklearn/utils/validation.py\", line 2961, in validate_data\n    X, y = check_X_y(X, y, **check_params)\n           ^^^^^^^^^^^^^^^^^^^^^^^^^^^^^^^\n  File \"/home/konstanty/Projects/UW/UWvenv/lib/python3.12/site-packages/sklearn/utils/validation.py\", line 1389, in check_X_y\n    check_consistent_length(X, y)\n  File \"/home/konstanty/Projects/UW/UWvenv/lib/python3.12/site-packages/sklearn/utils/validation.py\", line 475, in check_consistent_length\n    raise ValueError(\nValueError: Found input variables with inconsistent numbers of samples: [80000, 100000]\n\"\"\"",
      "\nThe above exception was the direct cause of the following exception:\n",
      "\u001b[31mValueError\u001b[39m                                Traceback (most recent call last)",
      "\u001b[36mCell\u001b[39m\u001b[36m \u001b[39m\u001b[32mIn[46]\u001b[39m\u001b[32m, line 20\u001b[39m\n\u001b[32m     18\u001b[39m \u001b[38;5;66;03m# 3. Predykcja\u001b[39;00m\n\u001b[32m     19\u001b[39m clf = OneVsRestClassifier(lr, n_jobs=-\u001b[32m1\u001b[39m)\n\u001b[32m---> \u001b[39m\u001b[32m20\u001b[39m \u001b[43mclf\u001b[49m\u001b[43m.\u001b[49m\u001b[43mfit\u001b[49m\u001b[43m(\u001b[49m\u001b[43mX_train\u001b[49m\u001b[43m,\u001b[49m\u001b[43m \u001b[49m\u001b[43my_train\u001b[49m\u001b[43m)\u001b[49m\n\u001b[32m     22\u001b[39m \u001b[38;5;28;01mwith\u001b[39;00m \u001b[38;5;28mopen\u001b[39m(\u001b[33m\"\u001b[39m\u001b[33mmodels/classifier.pkl\u001b[39m\u001b[33m\"\u001b[39m, \u001b[33m\"\u001b[39m\u001b[33mwb\u001b[39m\u001b[33m\"\u001b[39m) \u001b[38;5;28;01mas\u001b[39;00m f:\n\u001b[32m     23\u001b[39m     pickle.dump(clf, f)\n",
      "\u001b[36mFile \u001b[39m\u001b[32m~/Projects/UW/UWvenv/lib/python3.12/site-packages/sklearn/base.py:1389\u001b[39m, in \u001b[36m_fit_context.<locals>.decorator.<locals>.wrapper\u001b[39m\u001b[34m(estimator, *args, **kwargs)\u001b[39m\n\u001b[32m   1382\u001b[39m     estimator._validate_params()\n\u001b[32m   1384\u001b[39m \u001b[38;5;28;01mwith\u001b[39;00m config_context(\n\u001b[32m   1385\u001b[39m     skip_parameter_validation=(\n\u001b[32m   1386\u001b[39m         prefer_skip_nested_validation \u001b[38;5;129;01mor\u001b[39;00m global_skip_validation\n\u001b[32m   1387\u001b[39m     )\n\u001b[32m   1388\u001b[39m ):\n\u001b[32m-> \u001b[39m\u001b[32m1389\u001b[39m     \u001b[38;5;28;01mreturn\u001b[39;00m \u001b[43mfit_method\u001b[49m\u001b[43m(\u001b[49m\u001b[43mestimator\u001b[49m\u001b[43m,\u001b[49m\u001b[43m \u001b[49m\u001b[43m*\u001b[49m\u001b[43margs\u001b[49m\u001b[43m,\u001b[49m\u001b[43m \u001b[49m\u001b[43m*\u001b[49m\u001b[43m*\u001b[49m\u001b[43mkwargs\u001b[49m\u001b[43m)\u001b[49m\n",
      "\u001b[36mFile \u001b[39m\u001b[32m~/Projects/UW/UWvenv/lib/python3.12/site-packages/sklearn/multiclass.py:376\u001b[39m, in \u001b[36mOneVsRestClassifier.fit\u001b[39m\u001b[34m(self, X, y, **fit_params)\u001b[39m\n\u001b[32m    372\u001b[39m columns = (col.toarray().ravel() \u001b[38;5;28;01mfor\u001b[39;00m col \u001b[38;5;129;01min\u001b[39;00m Y.T)\n\u001b[32m    373\u001b[39m \u001b[38;5;66;03m# In cases where individual estimators are very fast to train setting\u001b[39;00m\n\u001b[32m    374\u001b[39m \u001b[38;5;66;03m# n_jobs > 1 in can results in slower performance due to the overhead\u001b[39;00m\n\u001b[32m    375\u001b[39m \u001b[38;5;66;03m# of spawning threads.  See joblib issue #112.\u001b[39;00m\n\u001b[32m--> \u001b[39m\u001b[32m376\u001b[39m \u001b[38;5;28mself\u001b[39m.estimators_ = \u001b[43mParallel\u001b[49m\u001b[43m(\u001b[49m\u001b[43mn_jobs\u001b[49m\u001b[43m=\u001b[49m\u001b[38;5;28;43mself\u001b[39;49m\u001b[43m.\u001b[49m\u001b[43mn_jobs\u001b[49m\u001b[43m,\u001b[49m\u001b[43m \u001b[49m\u001b[43mverbose\u001b[49m\u001b[43m=\u001b[49m\u001b[38;5;28;43mself\u001b[39;49m\u001b[43m.\u001b[49m\u001b[43mverbose\u001b[49m\u001b[43m)\u001b[49m\u001b[43m(\u001b[49m\n\u001b[32m    377\u001b[39m \u001b[43m    \u001b[49m\u001b[43mdelayed\u001b[49m\u001b[43m(\u001b[49m\u001b[43m_fit_binary\u001b[49m\u001b[43m)\u001b[49m\u001b[43m(\u001b[49m\n\u001b[32m    378\u001b[39m \u001b[43m        \u001b[49m\u001b[38;5;28;43mself\u001b[39;49m\u001b[43m.\u001b[49m\u001b[43mestimator\u001b[49m\u001b[43m,\u001b[49m\n\u001b[32m    379\u001b[39m \u001b[43m        \u001b[49m\u001b[43mX\u001b[49m\u001b[43m,\u001b[49m\n\u001b[32m    380\u001b[39m \u001b[43m        \u001b[49m\u001b[43mcolumn\u001b[49m\u001b[43m,\u001b[49m\n\u001b[32m    381\u001b[39m \u001b[43m        \u001b[49m\u001b[43mfit_params\u001b[49m\u001b[43m=\u001b[49m\u001b[43mrouted_params\u001b[49m\u001b[43m.\u001b[49m\u001b[43mestimator\u001b[49m\u001b[43m.\u001b[49m\u001b[43mfit\u001b[49m\u001b[43m,\u001b[49m\n\u001b[32m    382\u001b[39m \u001b[43m        \u001b[49m\u001b[43mclasses\u001b[49m\u001b[43m=\u001b[49m\u001b[43m[\u001b[49m\n\u001b[32m    383\u001b[39m \u001b[43m            \u001b[49m\u001b[33;43m\"\u001b[39;49m\u001b[33;43mnot \u001b[39;49m\u001b[38;5;132;43;01m%s\u001b[39;49;00m\u001b[33;43m\"\u001b[39;49m\u001b[43m \u001b[49m\u001b[43m%\u001b[49m\u001b[43m \u001b[49m\u001b[38;5;28;43mself\u001b[39;49m\u001b[43m.\u001b[49m\u001b[43mlabel_binarizer_\u001b[49m\u001b[43m.\u001b[49m\u001b[43mclasses_\u001b[49m\u001b[43m[\u001b[49m\u001b[43mi\u001b[49m\u001b[43m]\u001b[49m\u001b[43m,\u001b[49m\n\u001b[32m    384\u001b[39m \u001b[43m            \u001b[49m\u001b[38;5;28;43mself\u001b[39;49m\u001b[43m.\u001b[49m\u001b[43mlabel_binarizer_\u001b[49m\u001b[43m.\u001b[49m\u001b[43mclasses_\u001b[49m\u001b[43m[\u001b[49m\u001b[43mi\u001b[49m\u001b[43m]\u001b[49m\u001b[43m,\u001b[49m\n\u001b[32m    385\u001b[39m \u001b[43m        \u001b[49m\u001b[43m]\u001b[49m\u001b[43m,\u001b[49m\n\u001b[32m    386\u001b[39m \u001b[43m    \u001b[49m\u001b[43m)\u001b[49m\n\u001b[32m    387\u001b[39m \u001b[43m    \u001b[49m\u001b[38;5;28;43;01mfor\u001b[39;49;00m\u001b[43m \u001b[49m\u001b[43mi\u001b[49m\u001b[43m,\u001b[49m\u001b[43m \u001b[49m\u001b[43mcolumn\u001b[49m\u001b[43m \u001b[49m\u001b[38;5;129;43;01min\u001b[39;49;00m\u001b[43m \u001b[49m\u001b[38;5;28;43menumerate\u001b[39;49m\u001b[43m(\u001b[49m\u001b[43mcolumns\u001b[49m\u001b[43m)\u001b[49m\n\u001b[32m    388\u001b[39m \u001b[43m\u001b[49m\u001b[43m)\u001b[49m\n\u001b[32m    390\u001b[39m \u001b[38;5;28;01mif\u001b[39;00m \u001b[38;5;28mhasattr\u001b[39m(\u001b[38;5;28mself\u001b[39m.estimators_[\u001b[32m0\u001b[39m], \u001b[33m\"\u001b[39m\u001b[33mn_features_in_\u001b[39m\u001b[33m\"\u001b[39m):\n\u001b[32m    391\u001b[39m     \u001b[38;5;28mself\u001b[39m.n_features_in_ = \u001b[38;5;28mself\u001b[39m.estimators_[\u001b[32m0\u001b[39m].n_features_in_\n",
      "\u001b[36mFile \u001b[39m\u001b[32m~/Projects/UW/UWvenv/lib/python3.12/site-packages/sklearn/utils/parallel.py:77\u001b[39m, in \u001b[36mParallel.__call__\u001b[39m\u001b[34m(self, iterable)\u001b[39m\n\u001b[32m     72\u001b[39m config = get_config()\n\u001b[32m     73\u001b[39m iterable_with_config = (\n\u001b[32m     74\u001b[39m     (_with_config(delayed_func, config), args, kwargs)\n\u001b[32m     75\u001b[39m     \u001b[38;5;28;01mfor\u001b[39;00m delayed_func, args, kwargs \u001b[38;5;129;01min\u001b[39;00m iterable\n\u001b[32m     76\u001b[39m )\n\u001b[32m---> \u001b[39m\u001b[32m77\u001b[39m \u001b[38;5;28;01mreturn\u001b[39;00m \u001b[38;5;28;43msuper\u001b[39;49m\u001b[43m(\u001b[49m\u001b[43m)\u001b[49m\u001b[43m.\u001b[49m\u001b[34;43m__call__\u001b[39;49m\u001b[43m(\u001b[49m\u001b[43miterable_with_config\u001b[49m\u001b[43m)\u001b[49m\n",
      "\u001b[36mFile \u001b[39m\u001b[32m~/Projects/UW/UWvenv/lib/python3.12/site-packages/joblib/parallel.py:2007\u001b[39m, in \u001b[36mParallel.__call__\u001b[39m\u001b[34m(self, iterable)\u001b[39m\n\u001b[32m   2001\u001b[39m \u001b[38;5;66;03m# The first item from the output is blank, but it makes the interpreter\u001b[39;00m\n\u001b[32m   2002\u001b[39m \u001b[38;5;66;03m# progress until it enters the Try/Except block of the generator and\u001b[39;00m\n\u001b[32m   2003\u001b[39m \u001b[38;5;66;03m# reaches the first `yield` statement. This starts the asynchronous\u001b[39;00m\n\u001b[32m   2004\u001b[39m \u001b[38;5;66;03m# dispatch of the tasks to the workers.\u001b[39;00m\n\u001b[32m   2005\u001b[39m \u001b[38;5;28mnext\u001b[39m(output)\n\u001b[32m-> \u001b[39m\u001b[32m2007\u001b[39m \u001b[38;5;28;01mreturn\u001b[39;00m output \u001b[38;5;28;01mif\u001b[39;00m \u001b[38;5;28mself\u001b[39m.return_generator \u001b[38;5;28;01melse\u001b[39;00m \u001b[38;5;28;43mlist\u001b[39;49m\u001b[43m(\u001b[49m\u001b[43moutput\u001b[49m\u001b[43m)\u001b[49m\n",
      "\u001b[36mFile \u001b[39m\u001b[32m~/Projects/UW/UWvenv/lib/python3.12/site-packages/joblib/parallel.py:1650\u001b[39m, in \u001b[36mParallel._get_outputs\u001b[39m\u001b[34m(self, iterator, pre_dispatch)\u001b[39m\n\u001b[32m   1647\u001b[39m     \u001b[38;5;28;01myield\u001b[39;00m\n\u001b[32m   1649\u001b[39m     \u001b[38;5;28;01mwith\u001b[39;00m \u001b[38;5;28mself\u001b[39m._backend.retrieval_context():\n\u001b[32m-> \u001b[39m\u001b[32m1650\u001b[39m         \u001b[38;5;28;01myield from\u001b[39;00m \u001b[38;5;28mself\u001b[39m._retrieve()\n\u001b[32m   1652\u001b[39m \u001b[38;5;28;01mexcept\u001b[39;00m \u001b[38;5;167;01mGeneratorExit\u001b[39;00m:\n\u001b[32m   1653\u001b[39m     \u001b[38;5;66;03m# The generator has been garbage collected before being fully\u001b[39;00m\n\u001b[32m   1654\u001b[39m     \u001b[38;5;66;03m# consumed. This aborts the remaining tasks if possible and warn\u001b[39;00m\n\u001b[32m   1655\u001b[39m     \u001b[38;5;66;03m# the user if necessary.\u001b[39;00m\n\u001b[32m   1656\u001b[39m     \u001b[38;5;28mself\u001b[39m._exception = \u001b[38;5;28;01mTrue\u001b[39;00m\n",
      "\u001b[36mFile \u001b[39m\u001b[32m~/Projects/UW/UWvenv/lib/python3.12/site-packages/joblib/parallel.py:1754\u001b[39m, in \u001b[36mParallel._retrieve\u001b[39m\u001b[34m(self)\u001b[39m\n\u001b[32m   1747\u001b[39m \u001b[38;5;28;01mwhile\u001b[39;00m \u001b[38;5;28mself\u001b[39m._wait_retrieval():\n\u001b[32m   1748\u001b[39m \n\u001b[32m   1749\u001b[39m     \u001b[38;5;66;03m# If the callback thread of a worker has signaled that its task\u001b[39;00m\n\u001b[32m   1750\u001b[39m     \u001b[38;5;66;03m# triggered an exception, or if the retrieval loop has raised an\u001b[39;00m\n\u001b[32m   1751\u001b[39m     \u001b[38;5;66;03m# exception (e.g. `GeneratorExit`), exit the loop and surface the\u001b[39;00m\n\u001b[32m   1752\u001b[39m     \u001b[38;5;66;03m# worker traceback.\u001b[39;00m\n\u001b[32m   1753\u001b[39m     \u001b[38;5;28;01mif\u001b[39;00m \u001b[38;5;28mself\u001b[39m._aborting:\n\u001b[32m-> \u001b[39m\u001b[32m1754\u001b[39m         \u001b[38;5;28;43mself\u001b[39;49m\u001b[43m.\u001b[49m\u001b[43m_raise_error_fast\u001b[49m\u001b[43m(\u001b[49m\u001b[43m)\u001b[49m\n\u001b[32m   1755\u001b[39m         \u001b[38;5;28;01mbreak\u001b[39;00m\n\u001b[32m   1757\u001b[39m     \u001b[38;5;66;03m# If the next job is not ready for retrieval yet, we just wait for\u001b[39;00m\n\u001b[32m   1758\u001b[39m     \u001b[38;5;66;03m# async callbacks to progress.\u001b[39;00m\n",
      "\u001b[36mFile \u001b[39m\u001b[32m~/Projects/UW/UWvenv/lib/python3.12/site-packages/joblib/parallel.py:1789\u001b[39m, in \u001b[36mParallel._raise_error_fast\u001b[39m\u001b[34m(self)\u001b[39m\n\u001b[32m   1785\u001b[39m \u001b[38;5;66;03m# If this error job exists, immediately raise the error by\u001b[39;00m\n\u001b[32m   1786\u001b[39m \u001b[38;5;66;03m# calling get_result. This job might not exists if abort has been\u001b[39;00m\n\u001b[32m   1787\u001b[39m \u001b[38;5;66;03m# called directly or if the generator is gc'ed.\u001b[39;00m\n\u001b[32m   1788\u001b[39m \u001b[38;5;28;01mif\u001b[39;00m error_job \u001b[38;5;129;01mis\u001b[39;00m \u001b[38;5;129;01mnot\u001b[39;00m \u001b[38;5;28;01mNone\u001b[39;00m:\n\u001b[32m-> \u001b[39m\u001b[32m1789\u001b[39m     \u001b[43merror_job\u001b[49m\u001b[43m.\u001b[49m\u001b[43mget_result\u001b[49m\u001b[43m(\u001b[49m\u001b[38;5;28;43mself\u001b[39;49m\u001b[43m.\u001b[49m\u001b[43mtimeout\u001b[49m\u001b[43m)\u001b[49m\n",
      "\u001b[36mFile \u001b[39m\u001b[32m~/Projects/UW/UWvenv/lib/python3.12/site-packages/joblib/parallel.py:745\u001b[39m, in \u001b[36mBatchCompletionCallBack.get_result\u001b[39m\u001b[34m(self, timeout)\u001b[39m\n\u001b[32m    739\u001b[39m backend = \u001b[38;5;28mself\u001b[39m.parallel._backend\n\u001b[32m    741\u001b[39m \u001b[38;5;28;01mif\u001b[39;00m backend.supports_retrieve_callback:\n\u001b[32m    742\u001b[39m     \u001b[38;5;66;03m# We assume that the result has already been retrieved by the\u001b[39;00m\n\u001b[32m    743\u001b[39m     \u001b[38;5;66;03m# callback thread, and is stored internally. It's just waiting to\u001b[39;00m\n\u001b[32m    744\u001b[39m     \u001b[38;5;66;03m# be returned.\u001b[39;00m\n\u001b[32m--> \u001b[39m\u001b[32m745\u001b[39m     \u001b[38;5;28;01mreturn\u001b[39;00m \u001b[38;5;28;43mself\u001b[39;49m\u001b[43m.\u001b[49m\u001b[43m_return_or_raise\u001b[49m\u001b[43m(\u001b[49m\u001b[43m)\u001b[49m\n\u001b[32m    747\u001b[39m \u001b[38;5;66;03m# For other backends, the main thread needs to run the retrieval step.\u001b[39;00m\n\u001b[32m    748\u001b[39m \u001b[38;5;28;01mtry\u001b[39;00m:\n",
      "\u001b[36mFile \u001b[39m\u001b[32m~/Projects/UW/UWvenv/lib/python3.12/site-packages/joblib/parallel.py:763\u001b[39m, in \u001b[36mBatchCompletionCallBack._return_or_raise\u001b[39m\u001b[34m(self)\u001b[39m\n\u001b[32m    761\u001b[39m \u001b[38;5;28;01mtry\u001b[39;00m:\n\u001b[32m    762\u001b[39m     \u001b[38;5;28;01mif\u001b[39;00m \u001b[38;5;28mself\u001b[39m.status == TASK_ERROR:\n\u001b[32m--> \u001b[39m\u001b[32m763\u001b[39m         \u001b[38;5;28;01mraise\u001b[39;00m \u001b[38;5;28mself\u001b[39m._result\n\u001b[32m    764\u001b[39m     \u001b[38;5;28;01mreturn\u001b[39;00m \u001b[38;5;28mself\u001b[39m._result\n\u001b[32m    765\u001b[39m \u001b[38;5;28;01mfinally\u001b[39;00m:\n",
      "\u001b[31mValueError\u001b[39m: Found input variables with inconsistent numbers of samples: [80000, 100000]"
     ]
    }
   ],
   "source": [
    "from sklearn.linear_model import LogisticRegression\n",
    "from sklearn.multiclass import OneVsRestClassifier\n",
    "\n",
    "if os.path.exists(\"models/classifier.pkl\"):\n",
    "    print(\"Found classifier model!\")\n",
    "\n",
    "    with open(\"models/classifier.pkl\", \"rb\") as f:\n",
    "        clf = pickle.load(f)\n",
    "\n",
    "else:\n",
    "    print(\"We need to train classifier first...\")\n",
    "    lr= LogisticRegression(\n",
    "        max_iter=1000,\n",
    "        solver=\"saga\",\n",
    "        n_jobs=-1\n",
    "        )\n",
    "\n",
    "    # 3. Predykcja\n",
    "    clf = OneVsRestClassifier(lr, n_jobs=-1)\n",
    "    clf.fit(X_train, y_train)\n",
    "\n",
    "    with open(\"models/classifier.pkl\", \"wb\") as f:\n",
    "        pickle.dump(clf, f)"
   ]
  },
  {
   "cell_type": "markdown",
   "id": "fe6a1a5b",
   "metadata": {},
   "source": [
    "# Validation"
   ]
  },
  {
   "cell_type": "code",
   "execution_count": 42,
   "id": "7dd58f7f",
   "metadata": {},
   "outputs": [
    {
     "name": "stdout",
     "output_type": "stream",
     "text": [
      "Validation...\n"
     ]
    },
    {
     "ename": "ValueError",
     "evalue": "Expected indicator for 347 classes, but got 358",
     "output_type": "error",
     "traceback": [
      "\u001b[31m---------------------------------------------------------------------------\u001b[39m",
      "\u001b[31mValueError\u001b[39m                                Traceback (most recent call last)",
      "\u001b[36mCell\u001b[39m\u001b[36m \u001b[39m\u001b[32mIn[42]\u001b[39m\u001b[32m, line 5\u001b[39m\n\u001b[32m      3\u001b[39m \u001b[38;5;28mprint\u001b[39m(\u001b[33m\"\u001b[39m\u001b[33mValidation...\u001b[39m\u001b[33m\"\u001b[39m)\n\u001b[32m      4\u001b[39m y_pred_bin = clf.predict(X_val)\n\u001b[32m----> \u001b[39m\u001b[32m5\u001b[39m y_pred_labels = \u001b[43mmlb\u001b[49m\u001b[43m.\u001b[49m\u001b[43minverse_transform\u001b[49m\u001b[43m(\u001b[49m\u001b[43my_pred_bin\u001b[49m\u001b[43m)\u001b[49m\n\u001b[32m      7\u001b[39m predicted_topics_list = [\u001b[38;5;28mlist\u001b[39m(labels) \u001b[38;5;28;01mfor\u001b[39;00m labels \u001b[38;5;129;01min\u001b[39;00m y_pred_labels]\n\u001b[32m      8\u001b[39m \u001b[38;5;28mprint\u001b[39m(predicted_topics_list[:\u001b[32m100\u001b[39m])\n",
      "\u001b[36mFile \u001b[39m\u001b[32m~/Projects/UW/UWvenv/lib/python3.12/site-packages/sklearn/preprocessing/_label.py:935\u001b[39m, in \u001b[36mMultiLabelBinarizer.inverse_transform\u001b[39m\u001b[34m(self, yt)\u001b[39m\n\u001b[32m    932\u001b[39m check_is_fitted(\u001b[38;5;28mself\u001b[39m)\n\u001b[32m    934\u001b[39m \u001b[38;5;28;01mif\u001b[39;00m yt.shape[\u001b[32m1\u001b[39m] != \u001b[38;5;28mlen\u001b[39m(\u001b[38;5;28mself\u001b[39m.classes_):\n\u001b[32m--> \u001b[39m\u001b[32m935\u001b[39m     \u001b[38;5;28;01mraise\u001b[39;00m \u001b[38;5;167;01mValueError\u001b[39;00m(\n\u001b[32m    936\u001b[39m         \u001b[33m\"\u001b[39m\u001b[33mExpected indicator for \u001b[39m\u001b[38;5;132;01m{0}\u001b[39;00m\u001b[33m classes, but got \u001b[39m\u001b[38;5;132;01m{1}\u001b[39;00m\u001b[33m\"\u001b[39m.format(\n\u001b[32m    937\u001b[39m             \u001b[38;5;28mlen\u001b[39m(\u001b[38;5;28mself\u001b[39m.classes_), yt.shape[\u001b[32m1\u001b[39m]\n\u001b[32m    938\u001b[39m         )\n\u001b[32m    939\u001b[39m     )\n\u001b[32m    941\u001b[39m \u001b[38;5;28;01mif\u001b[39;00m sp.issparse(yt):\n\u001b[32m    942\u001b[39m     yt = yt.tocsr()\n",
      "\u001b[31mValueError\u001b[39m: Expected indicator for 347 classes, but got 358"
     ]
    }
   ],
   "source": [
    "from sklearn.metrics import f1_score, classification_report, hamming_loss\n",
    "\n",
    "print(\"Validation...\")\n",
    "y_pred_bin = clf.predict(X_val)\n",
    "y_pred_labels = mlb.inverse_transform(y_pred_bin)\n",
    "\n",
    "predicted_topics_list = [list(labels) for labels in y_pred_labels]\n",
    "print(predicted_topics_list[:100])\n",
    "\n",
    "val[\"PredictedTopics\"] = predicted_topics_list\n",
    "\n",
    "y_val_true_bin = mlb.transform(val[\"Topics\"])\n",
    "y_val_pred_bin = mlb.transform(val[\"PredictedTopics\"])\n",
    "\n",
    "\n",
    "print(\"micro-F1 :\", f1_score(y_val_true_bin, y_val_pred_bin, average=\"micro\"))\n",
    "print(\"macro-F1 :\", f1_score(y_val_true_bin, y_val_pred_bin, average=\"macro\"))\n",
    "print(\"Hamming  :\", hamming_loss(y_val_true_bin, y_val_pred_bin))"
   ]
  },
  {
   "cell_type": "markdown",
   "id": "4a235947",
   "metadata": {},
   "source": [
    "# Prediction"
   ]
  },
  {
   "cell_type": "code",
   "execution_count": null,
   "id": "b07d3c24",
   "metadata": {},
   "outputs": [
    {
     "name": "stdout",
     "output_type": "stream",
     "text": [
      "Prediction...\n",
      "[[], [], [], [], [], [], [], [], ['I.2.7'], [], [], [], [], [], [], [], [], ['I.2.4'], [], [], [], [], ['F.2.2', 'G.1.6', 'I.2.8'], ['B.7.1'], ['J.3'], [], [], ['I.3.5', 'I.3.7'], [], [], ['B.7.1', 'B.7.2', 'B.8.2'], [], [], [], [], [], ['K.3.2'], [], [], [], [], [], [], [], [], [], [], [], ['K.3.2'], [], [], [], ['H.3.3'], ['H.5.2'], [], [], [], [], [], [], [], ['C.2.4', 'I.2.11'], [], [], [], ['F.2.2', 'G.2.2'], ['G.1.6'], [], [], ['G.3'], ['I.5.2'], [], [], [], [], [], [], ['C.2.1', 'C.2.2', 'C.2.3', 'C.4'], [], ['F.4.1'], [], [], [], [], [], [], [], ['H.3.3'], ['K.3.2'], [], ['K.3.1', 'K.3.2'], [], [], [], ['G.2.2'], ['C.2.1', 'C.2.2', 'C.4'], ['I.5.2'], [], ['D.3.2'], []]\n",
      "       Textfile Predicted Topics\n",
      "0    963168.txt               []\n",
      "1   1811004.txt               []\n",
      "2    192631.txt               []\n",
      "3   1183872.txt               []\n",
      "4   1280491.txt               []\n",
      "5   1059284.txt               []\n",
      "6   1133457.txt               []\n",
      "7   1140350.txt               []\n",
      "8    100973.txt          [I.2.7]\n",
      "9   1147150.txt               []\n",
      "10   598535.txt               []\n",
      "11  1318072.txt               []\n",
      "12  1222053.txt               []\n",
      "13   110442.txt               []\n",
      "14  1044226.txt               []\n"
     ]
    }
   ],
   "source": [
    "\n",
    "print(\"Prediction...\")\n",
    "y_pred_bin = clf.predict(X_test)\n",
    "y_pred_labels = mlb.inverse_transform(y_pred_bin)\n",
    "\n",
    "# predicted_topics_str = [\",\".join(labels) if labels else \"-\" for labels in y_pred_labels]\n",
    "predicted_topics_list = [list(labels) for labels in y_pred_labels]\n",
    "print(predicted_topics_list[:100])\n",
    "\n",
    "results = pd.DataFrame({\n",
    "    \"Textfile\": test[\"Textfile\"].values,\n",
    "    \"Predicted Topics\": predicted_topics_list\n",
    "})\n",
    "\n",
    "\n",
    "# Making sure this has the same order\n",
    "order = test[\"Textfile\"]\n",
    "\n",
    "\n",
    "results_sorted = (\n",
    "    results.set_index(\"Textfile\")   # <- klucz do dopasowania\n",
    "           .loc[order]              # <- reindex wg referencyjnej kolejności\n",
    "           .reset_index()           # <- wróć do zwykłej kolumny\n",
    ")\n",
    "\n",
    "# 3. (opcjonalnie) nadpisz `results`\n",
    "results = results_sorted\n",
    "\n",
    "print(results.head(15))"
   ]
  },
  {
   "cell_type": "markdown",
   "id": "2f95ab9e",
   "metadata": {},
   "source": [
    "# Test"
   ]
  },
  {
   "cell_type": "code",
   "execution_count": null,
   "id": "cc61de5f",
   "metadata": {},
   "outputs": [],
   "source": [
    "# X_test = vectorizer.transform(test[\"Text\"])\n",
    "# lda_test_topic = lda.transform(X_test)\n",
    "\n",
    "\n",
    "# predict_binary = classifier.predict(lda_test_topic)\n",
    "# predict_labels = mlb.inverse_transform(predict_binary)"
   ]
  },
  {
   "cell_type": "markdown",
   "id": "7d24c54c",
   "metadata": {},
   "source": [
    "# Report\n",
    "- Example topics (keywords from LDA) DONE\n",
    "- PCA\n",
    "- precision/recall on validation data\n"
   ]
  }
 ],
 "metadata": {
  "kernelspec": {
   "display_name": "UWvenv",
   "language": "python",
   "name": "python3"
  },
  "language_info": {
   "codemirror_mode": {
    "name": "ipython",
    "version": 3
   },
   "file_extension": ".py",
   "mimetype": "text/x-python",
   "name": "python",
   "nbconvert_exporter": "python",
   "pygments_lexer": "ipython3",
   "version": "3.12.3"
  }
 },
 "nbformat": 4,
 "nbformat_minor": 5
}
